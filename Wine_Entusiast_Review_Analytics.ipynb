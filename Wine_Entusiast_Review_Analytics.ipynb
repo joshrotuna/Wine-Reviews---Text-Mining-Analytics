{
  "nbformat": 4,
  "nbformat_minor": 0,
  "metadata": {
    "colab": {
      "name": "Wine_Entusiast_Review_Analytics.ipynb",
      "provenance": [],
      "collapsed_sections": []
    },
    "kernelspec": {
      "display_name": "Python 3",
      "language": "python",
      "name": "python3"
    },
    "language_info": {
      "codemirror_mode": {
        "name": "ipython",
        "version": 3
      },
      "file_extension": ".py",
      "mimetype": "text/x-python",
      "name": "python",
      "nbconvert_exporter": "python",
      "pygments_lexer": "ipython3",
      "version": "3.8.5"
    }
  },
  "cells": [
    {
      "cell_type": "markdown",
      "metadata": {
        "id": "2Cxnwpver4od"
      },
      "source": [
        "# Wine Enthusiast: What factors determine a wine's rating?\n",
        "\n",
        "Many factors that can influence a wine's quality and taste. Commonly, those are thought to be a wine's age and price. But what factors really influence a wine's rating? To answer this question, we analyzed reviews on a variety of wines by sommeliers and professional wine tasters to determine whether features such as variety, origin, or even the taster's sentiment affects a wine's rating.\n",
        "\n",
        "**Objective**: *What factors have the strongest influence on a wine's star rating?*\n",
        "\n"
      ]
    },
    {
      "cell_type": "markdown",
      "metadata": {
        "id": "a8PrvYkKpzDg"
      },
      "source": [
        "## Dataset Description\n",
        "\n",
        "The dataset, which was obtained by Wine Enthusiast, contains 14 feature columns and 129,971 records, of which 118,840 are unique. It contains the wine reviews, ratings, and other features such as origin country, variety, and region."
      ]
    },
    {
      "cell_type": "code",
      "metadata": {
        "id": "Wy2dZgyn3sVT"
      },
      "source": [
        "# Mounting Google Drive\n",
        "from google.colab import drive\n",
        "drive.mount(\"/content/drive\")"
      ],
      "execution_count": null,
      "outputs": []
    },
    {
      "cell_type": "markdown",
      "metadata": {
        "id": "bgx3QLY_pROX"
      },
      "source": [
        "## Feature Descriptions\n",
        "* **country:** Origin country of the wine\n",
        "* **description:**\tReview by taster\n",
        "* **designation:** Name given by producer\t\n",
        "* **points:** Rating given by taster\n",
        "* **price:** Price of wine in USD\n",
        "* **province:**\tProvince or state (US) of origin\n",
        "* **region_1:**\tRegion of origin\n",
        "* **region_2:**\tRegion of origin (duplicate)\n",
        "* **taster_name:** Wine taster name\n",
        "* **taster_twitter_handle:** Wine taster twitter username\n",
        "* **title:** Wine name\n",
        "* **variety:** Wine type\n",
        "* **winery:** Winery that produced wine"
      ]
    },
    {
      "cell_type": "markdown",
      "metadata": {
        "id": "8esHd_aWpVQg"
      },
      "source": [
        "## Importing Packages"
      ]
    },
    {
      "cell_type": "code",
      "metadata": {
        "id": "HVuQg1KEwHdC"
      },
      "source": [
        "# Importing packages\n",
        "import pandas as pd\n",
        "import numpy as np\n",
        "\n",
        "import seaborn as sns\n",
        "import matplotlib.pyplot as plt\n",
        "\n",
        "import re\n",
        "import string\n",
        "\n",
        "from sklearn.linear_model import LogisticRegression\n",
        "from sklearn.preprocessing import StandardScaler, OneHotEncoder\n",
        "from sklearn.model_selection import train_test_split\n",
        "from sklearn.metrics import classification_report\n",
        "from sklearn.feature_extraction.text import TfidfVectorizer\n",
        "from sklearn.decomposition import NMF\n",
        "\n",
        "from wordcloud import WordCloud, STOPWORDS\n",
        "from textblob import TextBlob\n",
        "import nltk\n",
        "nltk.download('punkt')\n",
        "nltk.download('stopwords')\n",
        "\n",
        "import spacy #used spacy for text prepocessing\n",
        "\n",
        "import gensim\n",
        "from gensim import corpora\n",
        "\n",
        "# libraries for visualization\n",
        "import pyLDAvis\n",
        "import pyLDAvis.gensim_models as gensimvis\n",
        "%matplotlib inline"
      ],
      "execution_count": null,
      "outputs": []
    },
    {
      "cell_type": "code",
      "metadata": {
        "id": "sPEle9O2tEB2"
      },
      "source": [
        "# Reading the datset\n",
        "wine = pd.read_csv('/content/drive/My Drive/MSBA_Colab_2020/Text_Mining/Wine_Enthusiast_Data.csv')"
      ],
      "execution_count": null,
      "outputs": []
    },
    {
      "cell_type": "markdown",
      "metadata": {
        "id": "290hCZziOuUM"
      },
      "source": [
        "## Exploratory Data Analysis\n"
      ]
    },
    {
      "cell_type": "code",
      "metadata": {
        "id": "TzYiQUACOxmP"
      },
      "source": [
        "# Examining first 5 rows\n",
        "wine.head()"
      ],
      "execution_count": null,
      "outputs": []
    },
    {
      "cell_type": "code",
      "metadata": {
        "id": "lYLgFq6GO0fQ"
      },
      "source": [
        "# Examining number of rows and columns\n",
        "wine.shape"
      ],
      "execution_count": null,
      "outputs": []
    },
    {
      "cell_type": "code",
      "metadata": {
        "id": "3cwXfNRggH_q"
      },
      "source": [
        "# Unique number of wine titles\n",
        "len(wine.title.unique())"
      ],
      "execution_count": null,
      "outputs": []
    },
    {
      "cell_type": "code",
      "metadata": {
        "id": "sAndsYNHO0id"
      },
      "source": [
        "# Datatypes and column names\n",
        "wine.info()"
      ],
      "execution_count": null,
      "outputs": []
    },
    {
      "cell_type": "code",
      "metadata": {
        "id": "1_yjNxVaO4Eo"
      },
      "source": [
        "# Checking for null values\n",
        "wine.isna().sum()"
      ],
      "execution_count": null,
      "outputs": []
    },
    {
      "cell_type": "code",
      "metadata": {
        "id": "JcWPV9krYffP"
      },
      "source": [
        "# Checking for duplicates\n",
        "wine.duplicated().sum()"
      ],
      "execution_count": null,
      "outputs": []
    },
    {
      "cell_type": "markdown",
      "metadata": {
        "id": "stmOuDx-EgTS"
      },
      "source": [
        "## Data Cleaning\n",
        "\n",
        "Preparing the data for analysis by dropping and filling null values and extracting year information from the description column. Bins are created for the continuous variables Price, Star Rating, and Year in order to get more accurate results when running models."
      ]
    },
    {
      "cell_type": "code",
      "metadata": {
        "id": "PnIcz-7VUlAb"
      },
      "source": [
        "# Dropping unneeded columns\n",
        "wine = wine.drop(['Unnamed: 0','designation','province','region_1','taster_name','taster_twitter_handle','region_2','winery'],axis=1)\n",
        "wine.head()"
      ],
      "execution_count": null,
      "outputs": []
    },
    {
      "cell_type": "code",
      "metadata": {
        "id": "3Qr5Y1D-Zg_0"
      },
      "source": [
        "# Finding avg price per country and variety to replace null values in price column\n",
        "price_mean = wine.groupby(['country', 'variety'])['price'].transform('mean')\n",
        "wine['price'].fillna(price_mean,inplace=True)"
      ],
      "execution_count": null,
      "outputs": []
    },
    {
      "cell_type": "code",
      "metadata": {
        "id": "Koo3M-PaM51M"
      },
      "source": [
        "# Checking remaining null values in price columns\n",
        "wine.price.isna().sum()\n",
        "\n",
        "# 31 price values were not populated"
      ],
      "execution_count": null,
      "outputs": []
    },
    {
      "cell_type": "code",
      "metadata": {
        "id": "tlbJNOsxPiR8"
      },
      "source": [
        "# Dropping remaining null values and zeros in price column\n",
        "wine = wine[pd.notnull(wine['price'])]\n",
        "wine = wine[wine.price != 0]\n",
        "wine.price"
      ],
      "execution_count": null,
      "outputs": []
    },
    {
      "cell_type": "code",
      "metadata": {
        "id": "TKS_NXA7Z-VN"
      },
      "source": [
        "# Creating new Column with year produced\n",
        "wine_year = wine.title\n",
        "\n",
        "wine_year =  [re.findall(r'\\b20\\d{2}', str(x)) for x in wine['title']]   # Extracting only the year\n",
        "wine_year = pd.DataFrame(wine_year)\n",
        "wine['year'] = wine_year[0]\n",
        "wine['year'] = pd.to_datetime(wine['year'])\n",
        "wine['year'] = pd.DatetimeIndex(wine['year']).year\n",
        "\n",
        "# Dropping null values in year column \n",
        "wine = wine.dropna(subset=['year'],axis=0)\n",
        "\n",
        "# Changing year to integer\n",
        "wine['year'] = wine.year.astype(int)\n",
        "\n",
        "wine.head(1)"
      ],
      "execution_count": null,
      "outputs": []
    },
    {
      "cell_type": "markdown",
      "metadata": {
        "id": "sv6hNfeCZ0Je"
      },
      "source": [
        "### Price Bins\n",
        "\n",
        "Wine prices range from USD4.00 to USD3,300.\n",
        "\n",
        "Bins: \n",
        "* low = 4.0-18.0\n",
        "* mid = 18.0-26.0\n",
        "* high = 26.0-42.0\n",
        "* ultra = 42.0-3300.0"
      ]
    },
    {
      "cell_type": "code",
      "metadata": {
        "id": "KKAeFohbzGx-"
      },
      "source": [
        "# Finding price range\n",
        "wine['price'].describe()"
      ],
      "execution_count": null,
      "outputs": []
    },
    {
      "cell_type": "code",
      "metadata": {
        "id": "-jQw4TF_X_ek"
      },
      "source": [
        "# Creating bins and labels for price data\n",
        "bin_labels_price = ['low','mid','high','ultra']\n",
        "wine['price_bin'] = pd.qcut(wine['price'],q=4, labels=bin_labels_price) #dividing data into 4 bins\n",
        "wine.price_bin.value_counts()"
      ],
      "execution_count": null,
      "outputs": []
    },
    {
      "cell_type": "markdown",
      "metadata": {
        "id": "Z5PZTeu2Z3Mt"
      },
      "source": [
        "### Star Rating Bins\n",
        "Wine ratings range from 80 to 100 points.\n",
        "\n",
        "Star ratings range from 1-5, with the point equally distributed within this range"
      ]
    },
    {
      "cell_type": "code",
      "metadata": {
        "id": "ia-AVr_asaXN"
      },
      "source": [
        "# Finding ratings range\n",
        "wine['points'].describe()"
      ],
      "execution_count": null,
      "outputs": []
    },
    {
      "cell_type": "code",
      "metadata": {
        "id": "gW--VxQ-saXO"
      },
      "source": [
        "# Creating bins and labels for ratings data\n",
        "bin_labels_points = ['1','2','3','4','5']\n",
        "wine['star_rating'] = pd.qcut(wine['points'],q=5,labels=bin_labels_points) #dividing data into 5 bins (star ratings)\n",
        "wine.star_rating.value_counts()"
      ],
      "execution_count": null,
      "outputs": []
    },
    {
      "cell_type": "markdown",
      "metadata": {
        "id": "pHxMhseFcPdu"
      },
      "source": [
        "### Year Bins\n",
        "The years range from 2000 to 2017. \n",
        "\n",
        "The years are binned in groups of 5 years."
      ]
    },
    {
      "cell_type": "code",
      "metadata": {
        "id": "rnOymkQ3bSTn"
      },
      "source": [
        "# Finding year range\n",
        "wine.year.describe()"
      ],
      "execution_count": null,
      "outputs": []
    },
    {
      "cell_type": "code",
      "metadata": {
        "id": "JoYCijLfbB7D"
      },
      "source": [
        "# Creating bins and labels for year data\n",
        "bin_labels_year = ['2000-2005','2005-2010','2010-2015','2015 and later']\n",
        "wine['year_bin'] = pd.cut(wine['year'],bins=[1999,2005,2010,2015,2018], labels=bin_labels_year)\n",
        "\n",
        "wine.year_bin.value_counts()"
      ],
      "execution_count": null,
      "outputs": []
    },
    {
      "cell_type": "code",
      "metadata": {
        "id": "A2Q00kCEVL_u"
      },
      "source": [
        "# Viewing result\n",
        "wine.head()"
      ],
      "execution_count": null,
      "outputs": []
    },
    {
      "cell_type": "markdown",
      "metadata": {
        "id": "_PwVc06Fnkkr"
      },
      "source": [
        "## Sentiment Analysis\n",
        "\n",
        "A sentiment analysis is conduced in order to identify any polarity in the wine reviews. After the polarity score is obtained, bins are created to better fit regression models. The bin groupings are as follows:\n",
        "\n",
        "* Polarity score of -1 to 0: negative\n",
        "* Polarity score of 0 to 1: positive\n",
        "\n",
        "A column is added to the dataframe in order to keep track of the sentiment. Lastly, polarity in reviews is visualized by star rating and country."
      ]
    },
    {
      "cell_type": "code",
      "metadata": {
        "id": "M8vl7ZYEnoVh"
      },
      "source": [
        "# Creating functions to determine polarity\n",
        "\n",
        "def detect_polarity(text):\n",
        "    \n",
        "    #Converts the text into textblob object and then retuns\n",
        "    #the polarity.\n",
        "    blob = TextBlob(text)\n",
        "    \n",
        "    # return the polarity\n",
        "    return blob.sentiment.polarity"
      ],
      "execution_count": null,
      "outputs": []
    },
    {
      "cell_type": "code",
      "metadata": {
        "id": "OkoPANYPnod5"
      },
      "source": [
        "# Applying function to every row in data set\n",
        "wine.head()\n",
        "wine['polarity_score'] = wine.description.apply(detect_polarity)\n",
        "wine.head()"
      ],
      "execution_count": null,
      "outputs": []
    },
    {
      "cell_type": "code",
      "metadata": {
        "id": "PCgzfcBkORdx"
      },
      "source": [
        "# Binning polarity and subjectivity\n",
        "polarity_labels = ['negative','positive']\n",
        "wine['polarity'] = pd.cut(wine['polarity_score'], bins=[-1,0,1], labels=polarity_labels)"
      ],
      "execution_count": null,
      "outputs": []
    },
    {
      "cell_type": "code",
      "metadata": {
        "id": "yI0TzBWJO9h-"
      },
      "source": [
        "# Exporting for seperate model code\n",
        "wine.to_csv('wine_full_data.csv')"
      ],
      "execution_count": null,
      "outputs": []
    },
    {
      "cell_type": "markdown",
      "metadata": {
        "id": "cUaNbatWXxDq"
      },
      "source": [
        "### Visualizations\n",
        "Visualizations are created to visualize the average polarity across star ratings and countries."
      ]
    },
    {
      "cell_type": "code",
      "metadata": {
        "id": "q-fsSyxvo6HR"
      },
      "source": [
        "# Displaying Graphs of polarity by Points\n",
        "points_polarity = wine.groupby('star_rating')['polarity_score'].mean()\n",
        "plt.bar(points_polarity.index, points_polarity)\n",
        "plt.xlabel('Star Rating')\n",
        "plt.ylabel('Polarity Level')\n",
        "plt.title('Polarity by Star Rating')\n",
        "plt.show()"
      ],
      "execution_count": null,
      "outputs": []
    },
    {
      "cell_type": "code",
      "metadata": {
        "id": "KHcpDroZo9wW"
      },
      "source": [
        "# Displaying Graphs of polarity by Country\n",
        "wine.country.value_counts()\n",
        "\n",
        "# Dropping all countries with less than 50 entries\n",
        "country_over_50 = wine[wine.country.map(wine.country.value_counts()) > 50]\n",
        "\n",
        "# Grouping country by average polarity\n",
        "country_polarity = country_over_50.groupby('country')['polarity_score'].mean().sort_values(ascending=False)\n",
        "\n",
        "# Creating bar chart\n",
        "plt.bar(country_polarity.index, country_polarity, color = 'c')\n",
        "plt.xticks(rotation = 90)\n",
        "plt.title('Average Polarity by Country')\n",
        "plt.xlabel('Country')\n",
        "plt.ylabel('Polarity')\n",
        "plt.show()"
      ],
      "execution_count": null,
      "outputs": []
    },
    {
      "cell_type": "code",
      "metadata": {
        "id": "YpVOrS6pNIWa"
      },
      "source": [
        "# Displaying Graphs of polarity by star rating\n",
        "year_polarity = wine.groupby('year')['polarity_score'].mean()\n",
        "plt.plot(year_polarity.index, year_polarity, linewidth=4)\n",
        "plt.xlabel('Year')\n",
        "plt.ylabel('Polarity Level')\n",
        "plt.title('Polarity Over Time')\n",
        "plt.show()"
      ],
      "execution_count": null,
      "outputs": []
    },
    {
      "cell_type": "markdown",
      "metadata": {
        "id": "dtUJrTSSWyCi"
      },
      "source": [
        "## LDA and Gensim Model\n",
        "A LDA model was run in order to identify topics and top keywords. A gensim model was run to visualize the topics which are obtained from the *Description* column of the dataset. Performance evaluation helped identify the optimal number of topics."
      ]
    },
    {
      "cell_type": "code",
      "metadata": {
        "id": "pQnWQpHuCPUW"
      },
      "source": [
        "# Cleaning text to remove stop words, numbers..etc\n",
        "# lower case characters\n",
        "\n",
        "def clean_text(text): \n",
        "    delete_dict = {sp_character: '' for sp_character in string.punctuation} \n",
        "    delete_dict[' '] = ' ' \n",
        "    table = str.maketrans(delete_dict)\n",
        "    text1 = text.translate(table)\n",
        "    \n",
        "    textArr= text1.split()\n",
        "    text2 = ' '.join([w for w in textArr if ( not w.isdigit() and  ( not w.isdigit() and len(w)>3))]) \n",
        "    \n",
        "    return text2.lower()"
      ],
      "execution_count": null,
      "outputs": []
    },
    {
      "cell_type": "code",
      "metadata": {
        "id": "ZRpEBMwQCPUa"
      },
      "source": [
        "# turning characters lower case and only keeping alphanumeric values\n",
        "wine['description_gensim'] = wine.description.apply(clean_text)\n",
        "\n",
        "# Checking for Null Values\n",
        "wine.description_gensim.isna().sum()\n",
        "    # 0 Null"
      ],
      "execution_count": null,
      "outputs": []
    },
    {
      "cell_type": "code",
      "metadata": {
        "id": "w8t9RzLTCPUr"
      },
      "source": [
        "# Creating columns with number of words in cleaned description:\n",
        "wine['Num_words_text'] = wine['description'].apply(lambda x:len(str(x).split())) \n",
        "wine.columns"
      ],
      "execution_count": null,
      "outputs": []
    },
    {
      "cell_type": "code",
      "metadata": {
        "id": "h9brQ57cCPUs"
      },
      "source": [
        "# Creating bins and labels for ratings data\n",
        "bin_labels_points = ['1','2','3','4','5']\n",
        "wine['star_rating'] = pd.qcut(wine['points'],q=5,labels=bin_labels_points) #dividing data into 5 bins (star ratings)"
      ],
      "execution_count": null,
      "outputs": []
    },
    {
      "cell_type": "code",
      "metadata": {
        "id": "Wy0qReQPCPUt"
      },
      "source": [
        "# Printing number of records per review\n",
        "print('-------Dataset --------')\n",
        "print(wine['star_rating'].value_counts())\n",
        "print(len(wine))\n",
        "print('-------------------------')\n",
        "\n",
        "# Printing number of short reviews\n",
        "max_review_data_sentence_length  = wine['Num_words_text'].max()\n",
        "mask = (wine['Num_words_text'] < 100) & (wine['Num_words_text'] >=20)\n",
        "\n",
        "wine_short_reviews = wine[mask]\n",
        "wine_sampled = wine_short_reviews.groupby('star_rating').apply(lambda x: x.sample(n=200)).reset_index(drop = True)\n",
        "\n",
        "print('No of Short reviews')\n",
        "print(len(wine_short_reviews))"
      ],
      "execution_count": null,
      "outputs": []
    },
    {
      "cell_type": "code",
      "metadata": {
        "id": "fMarvXnaCPUt"
      },
      "source": [
        "# Further removing stop words \n",
        "from nltk.corpus import stopwords\n",
        "stop_words = stopwords.words('english')\n",
        "\n",
        "def remove_stopwords(text):\n",
        "    textArr = text.split(' ')\n",
        "    rem_text = \" \".join([i for i in textArr if i not in stop_words])\n",
        "    return rem_text\n",
        "\n",
        "# Obtaining sample and removing stopwords\n",
        "wine_sampled['description_gensim']=wine_sampled['description_gensim'].apply(remove_stopwords)\n",
        "wine_sampled.head()"
      ],
      "execution_count": null,
      "outputs": []
    },
    {
      "cell_type": "code",
      "metadata": {
        "id": "BpFze9sxCPUu"
      },
      "source": [
        "# Defining lemmatization function\n",
        "nlp = spacy.load('en_core_web_sm', disable=['parser', 'ner'])\n",
        "\n",
        "def lemmatization(texts,allowed_postags=['NOUN', 'ADJ']): \n",
        "       output = []\n",
        "       for sent in texts:\n",
        "             doc = nlp(sent) \n",
        "             output.append([token.lemma_ for token in doc if token.pos_ in allowed_postags ])\n",
        "       return output"
      ],
      "execution_count": null,
      "outputs": []
    },
    {
      "cell_type": "code",
      "metadata": {
        "id": "l1m_D-DGCPUv"
      },
      "source": [
        "# Converting text samples to list\n",
        "text_list=wine_sampled['description_gensim'].tolist()\n",
        "print(text_list[1])"
      ],
      "execution_count": null,
      "outputs": []
    },
    {
      "cell_type": "code",
      "metadata": {
        "id": "tPo9nW0ECPUy"
      },
      "source": [
        "# Tokenizing reviews \n",
        "tokenized_reviews = lemmatization(text_list)\n",
        "print(tokenized_reviews[1])"
      ],
      "execution_count": null,
      "outputs": []
    },
    {
      "cell_type": "code",
      "metadata": {
        "id": "A1yJA0FkCPU1"
      },
      "source": [
        "# Storing tokenized reviews in dictionary\n",
        "dictionary = corpora.Dictionary(tokenized_reviews)\n",
        "\n",
        "# Creating dtm\n",
        "doc_term_matrix = [dictionary.doc2bow(rev) for rev in tokenized_reviews]"
      ],
      "execution_count": null,
      "outputs": []
    },
    {
      "cell_type": "code",
      "metadata": {
        "id": "njN8KUi3CPU1"
      },
      "source": [
        "# Fitting LDA model\n",
        "LDA = gensim.models.ldamodel.LdaModel\n",
        "\n",
        "lda_model = LDA(corpus=doc_term_matrix, id2word=dictionary, num_topics=10, random_state=100,\n",
        "                chunksize=1000, passes=50,iterations=100)"
      ],
      "execution_count": null,
      "outputs": []
    },
    {
      "cell_type": "code",
      "metadata": {
        "id": "WQsfurn8CPU1",
        "scrolled": true
      },
      "source": [
        "# Print the 10 topics\n",
        "lda_model.print_topics()"
      ],
      "execution_count": null,
      "outputs": []
    },
    {
      "cell_type": "code",
      "metadata": {
        "id": "HZh5E3sYCPU2"
      },
      "source": [
        "# Visualize the topics\n",
        "#https://github.com/bmabey/pyLDAvis\n",
        "#https://speakerdeck.com/bmabey/visualizing-topic-models\n",
        "pyLDAvis.enable_notebook()\n",
        "\n",
        "vis = gensimvis.prepare(lda_model, doc_term_matrix, dictionary)\n",
        "vis"
      ],
      "execution_count": null,
      "outputs": []
    },
    {
      "cell_type": "code",
      "metadata": {
        "id": "dyBPhxq4CPU8"
      },
      "source": [
        "#How will we know that this LDA model is good: Perplexity versus coherence.\n",
        "#Lower the perplexity, the model is better.\n",
        "print('\\nPerplexity: ', lda_model.log_perplexity(doc_term_matrix,total_docs=10000))  # a measure of how good the model is. lower the better.\n",
        "#Higher the coherence, the model is better.\n",
        "#Compute Coherence Score\n",
        "from gensim.models.coherencemodel import CoherenceModel\n",
        "coherence_model_lda = CoherenceModel(model=lda_model, texts=tokenized_reviews, dictionary=dictionary , coherence='c_v')\n",
        "coherence_lda = coherence_model_lda.get_coherence()\n",
        "print('\\nCoherence Score: ', coherence_lda)"
      ],
      "execution_count": null,
      "outputs": []
    },
    {
      "cell_type": "code",
      "metadata": {
        "id": "3ECdfJn1CPU9"
      },
      "source": [
        "#Compute the coherence scores by varying the number of topics\n",
        "\n",
        "def compute_coherence_values(dictionary, corpus, texts, limit, start=2, step=3):\n",
        "    \"\"\"\n",
        "    Compute c_v coherence for various number of topics\n",
        "\n",
        "    Parameters:\n",
        "    ----------\n",
        "    dictionary : Gensim dictionary\n",
        "    corpus : Gensim corpus\n",
        "    texts : List of input texts\n",
        "    limit : Max num of topics\n",
        "\n",
        "    Returns:\n",
        "    -------\n",
        "    model_list : List of LDA topic models\n",
        "    coherence_values : Coherence values corresponding to the LDA model with respective number of topics\n",
        "    \"\"\"\n",
        "    \n",
        "    coherence_values = []\n",
        "    model_list = []\n",
        "    for num_topics in range(start, limit, step):\n",
        "        model = gensim.models.ldamodel.LdaModel(corpus=corpus, num_topics=num_topics, id2word=dictionary)\n",
        "        model_list.append(model)\n",
        "        coherencemodel = CoherenceModel(model=model, texts=texts, dictionary=dictionary, coherence='c_v')\n",
        "        coherence_values.append(coherencemodel.get_coherence())\n",
        "\n",
        "    return model_list, coherence_values"
      ],
      "execution_count": null,
      "outputs": []
    },
    {
      "cell_type": "code",
      "metadata": {
        "id": "WwO8fYYLCPVC"
      },
      "source": [
        "model_list, coherence_values = compute_coherence_values(dictionary=dictionary, corpus=doc_term_matrix, texts=tokenized_reviews, start=2, limit=50, step=1)"
      ],
      "execution_count": null,
      "outputs": []
    },
    {
      "cell_type": "code",
      "metadata": {
        "id": "XFsOdAFaCPVC"
      },
      "source": [
        "# Show graph\n",
        "limit=50; start=2; step=1;\n",
        "x = range(start, limit, step)\n",
        "plt.plot(x, coherence_values)\n",
        "plt.xlabel(\"Num Topics\")\n",
        "plt.ylabel(\"Coherence score\")\n",
        "plt.legend((\"coherence_values\"), loc='best')\n",
        "plt.show()# Print the coherence scores"
      ],
      "execution_count": null,
      "outputs": []
    },
    {
      "cell_type": "code",
      "metadata": {
        "id": "c_vViZziCPVD",
        "scrolled": true
      },
      "source": [
        "# Print the coherence scores\n",
        "for m, cv in zip(x, coherence_values):\n",
        "    print(\"Num Topics =\", m, \" has Coherence Value of\", round(cv, 4))"
      ],
      "execution_count": null,
      "outputs": []
    },
    {
      "cell_type": "code",
      "metadata": {
        "id": "U0oijAFxCPVD"
      },
      "source": [
        "# Select the model and print the topics\n",
        "optimal_model = model_list[3]\n",
        "model_topics = optimal_model.show_topics(formatted=False)\n",
        "optimal_model.print_topics(num_words=10)"
      ],
      "execution_count": null,
      "outputs": []
    },
    {
      "cell_type": "code",
      "metadata": {
        "id": "27Rno7bzCPVE"
      },
      "source": [
        "# Visualize the topics\n",
        "#After reducing the number of topics, there is not much overlapping\n",
        "pyLDAvis.enable_notebook()\n",
        "vis = gensimvis.prepare(optimal_model, doc_term_matrix, dictionary)\n",
        "vis"
      ],
      "execution_count": null,
      "outputs": []
    },
    {
      "cell_type": "code",
      "metadata": {
        "id": "7JdZtylK22Rr"
      },
      "source": [
        "# Removing gensim columns\n",
        "wine = wine.drop(['description_gensim','Num_words_text'],axis=1)"
      ],
      "execution_count": null,
      "outputs": []
    },
    {
      "cell_type": "markdown",
      "metadata": {
        "id": "UOVdL4WBqJvJ"
      },
      "source": [
        "## Topic Modeling: NFM \n",
        "\n",
        "The Gensim Model found the optimal number of topics to be five. Hence, five topics will be chosen when identifying topics and keywords using the NFM approach. After the topics are identified, they are named according to the key words. Lastly, word clouds are generated to visualize the various topics and the most important key words. The various word clouds visualize keywords in both the entire dataset as well as the top five countries."
      ]
    },
    {
      "cell_type": "code",
      "metadata": {
        "id": "4ggEbZGEqcXD"
      },
      "source": [
        "#TfidfVectorizer performs a count vectorizer beforehand.\n",
        "tf = TfidfVectorizer(max_df=0.95, min_df=2, stop_words='english')"
      ],
      "execution_count": null,
      "outputs": []
    },
    {
      "cell_type": "code",
      "metadata": {
        "id": "ynHSPhenqkBO"
      },
      "source": [
        "# Creating document term matrix of wine.description\n",
        "dtm = tf.fit_transform(wine['description']) # Call fit_transform on the description column\n",
        "dtm"
      ],
      "execution_count": null,
      "outputs": []
    },
    {
      "cell_type": "code",
      "metadata": {
        "id": "muUnX7bEqPd-"
      },
      "source": [
        "# Creating NMF\n",
        "nmf_model = NMF(n_components=5,random_state=42)\n",
        "nmf_model"
      ],
      "execution_count": null,
      "outputs": []
    },
    {
      "cell_type": "code",
      "metadata": {
        "id": "ZIXraufF66D8"
      },
      "source": [
        "# Fitting model\n",
        "nmf_model.fit(dtm)"
      ],
      "execution_count": null,
      "outputs": []
    },
    {
      "cell_type": "code",
      "metadata": {
        "id": "4F6avf3DsSsw"
      },
      "source": [
        "# Obtaining number of features\n",
        "len(tf.get_feature_names())"
      ],
      "execution_count": null,
      "outputs": []
    },
    {
      "cell_type": "code",
      "metadata": {
        "id": "_bYhf6TsrEKb"
      },
      "source": [
        "# Obtaining topic names and words\n",
        "for index,topic in enumerate(nmf_model.components_):\n",
        "    print(f'THE TOP 15 WORDS FOR TOPIC #{index+1}')\n",
        "    print([tf.get_feature_names()[i] for i in topic.argsort()[-5:]])                                           \n",
        "    print('\\n')"
      ],
      "execution_count": null,
      "outputs": []
    },
    {
      "cell_type": "code",
      "metadata": {
        "id": "UQ_lmmDKrEKe"
      },
      "source": [
        "# Naming topic classes\n",
        "wine_classification = {0: 'Red & Oaky Wine', 1: 'Fruity Wines', 2:'Rich & Ripe Wines', 3: 'Bouquet Wines', 4: 'Dry Wines'}\n",
        "\n",
        "# Attaching topics to original dtm\n",
        "topic_labels = nmf_model.transform(dtm)\n",
        "\n",
        "# Grab the index position of the most representative topic by calling argmax().\n",
        "topic_labels[0].argmax()\n",
        "\n",
        "# Placing Topic classification of each wine into an array\n",
        "topic_labels.argmax(axis=1)\n",
        "\n",
        "# Creating new column for topic class\n",
        "wine['topic_class'] = topic_labels.argmax(axis=1)\n",
        "\n",
        "# Adding topic classificaltion label\n",
        "wine['topic_class'] = wine['topic_class'].map(wine_classification)\n",
        "wine.topic_class.value_counts()"
      ],
      "execution_count": null,
      "outputs": []
    },
    {
      "cell_type": "code",
      "metadata": {
        "id": "37I8rHc7Bd-i"
      },
      "source": [
        " # WorldCloud for entire dataset\n",
        "\n",
        "# concatenate all the reviews into one single string \n",
        "full_text = ' '.join(wine['description'])\n",
        "\n",
        "my_stop_words = [\"https\", \"co\", \"RT\", 'aren', 'couldn', 'didn', 'doesn', 'don', 'hadn', 'hasn', 'haven', 'isn', 'let', 'll', 'mustn', 're', 'rt', 'shan', 'shouldn', 've', 'wasn', 'weren', 'won', 'wouldn'] + list(STOPWORDS)\n",
        "cloud_no_stopword = WordCloud(background_color='white', stopwords=my_stop_words).generate(full_text)\n",
        "\n",
        "    # SYNTAX: WordCloud(background_color='white', stopwords= x ).generate(your list of words)\n",
        "\n",
        "plt.imshow(cloud_no_stopword, interpolation='bilinear')\n",
        "plt.axis('off')\n",
        "plt.show()"
      ],
      "execution_count": null,
      "outputs": []
    },
    {
      "cell_type": "code",
      "metadata": {
        "id": "b6BfC8qPsSxi"
      },
      "source": [
        "# NFM by Country\n",
        "# Identifying countries with the most wine records\n",
        "wine.country.value_counts().nlargest(5)"
      ],
      "execution_count": null,
      "outputs": []
    },
    {
      "cell_type": "code",
      "metadata": {
        "id": "Yy2wSeUuB9jR"
      },
      "source": [
        "# Word Cloud by Country:\n",
        "# concatenate all the reviews into one single string\n",
        "countries = ['US', 'France', 'Italy', 'Spain', 'Portugal']\n",
        "\n",
        "def country_wordcloud(countries):\n",
        "  for x in countries:\n",
        "    print(x)\n",
        "    df = wine[wine.country == x]\n",
        "    full_text = ' '.join(df['description'])\n",
        "\n",
        "    my_stop_words = [\"drink\",\"wine\",\"https\", \"co\", \"RT\", 'aren', 'couldn', 'didn', 'doesn', 'don', 'hadn', 'hasn', 'haven', 'isn', 'let', 'll', 'mustn', 're', 'rt', 'shan', 'shouldn', 've', 'wasn', 'weren', 'won', 'wouldn'] + list(STOPWORDS)\n",
        "    cloud_no_stopword = WordCloud(background_color='white', stopwords=my_stop_words).generate(full_text)\n",
        "\n",
        "        # SYNTAX: WordCloud(background_color='white', stopwords= x ).generate(your list of words)\n",
        "\n",
        "    plt.imshow(cloud_no_stopword, interpolation='bilinear')\n",
        "    plt.axis('off')\n",
        "    plt.show()\n",
        "country_wordcloud(countries)"
      ],
      "execution_count": null,
      "outputs": []
    },
    {
      "cell_type": "markdown",
      "metadata": {
        "id": "YjXfD43yX4VD"
      },
      "source": [
        "## Logistic Regression\n",
        "A multinomial logistic regression performed in order to identify the top features that influence a wine's star rating. "
      ]
    },
    {
      "cell_type": "markdown",
      "metadata": {
        "id": "TXz9fX3Ju4OY"
      },
      "source": [
        "### Preparing Data\n",
        "\n",
        "The data is prepared to fit the regression. First, countries are replaced by continents (regions) in order to avoid too many features which can lead to overfitting. Then, One Hot Encoding is used to create dummy variables for the variables in order to run the regression. During this process, any remainng null values are removed."
      ]
    },
    {
      "cell_type": "code",
      "metadata": {
        "id": "6TvOQAljVVA_"
      },
      "source": [
        "# Replacing country with region (continent)\n",
        "wine.country.replace(\n",
        "    ['Italy', 'Portugal','Spain', 'France', 'Germany', 'Austria', 'Hungary', 'Greece', \n",
        "     'Romania', 'Czech Republic', 'Slovenia', 'Luxembourg', 'Croatia', 'England', 'Bulgaria', \n",
        "     'Switzerland', 'Bosnia and Herzegovina', 'Ukraine', 'Slovakia', 'Serbia', 'Moldova', \n",
        "     'Morocco', 'Cyprus', 'Macedonia'], 'Europe', inplace=True)\n",
        "wine.country.replace(['US', 'Canada'], 'North America', inplace=True)\n",
        "wine.country.replace(['Argentina', 'Chile', 'Mexico', 'Uruguay', 'Brazil', 'Peru'], 'South America',inplace=True)\n",
        "wine.country.replace(['South Africa', 'Egypt'], 'Africa',inplace=True)\n",
        "wine.country.replace(['Israel', 'Lebanon', 'India', 'Armenia', 'China', 'Turkey', 'Georgia'], 'Asia',inplace=True)\n",
        "wine.country.replace(['New Zealand', 'Australia'], 'Australia',inplace=True)\n",
        "\n",
        "# Renaming column to region\n",
        "wine.rename(columns={'country':'region'}, inplace=True)\n",
        "\n",
        "# Dropping nulls\n",
        "wine = wine.dropna(subset=['region'], axis=0)"
      ],
      "execution_count": null,
      "outputs": []
    },
    {
      "cell_type": "code",
      "metadata": {
        "id": "3QeuM65nioTM"
      },
      "source": [
        "# Dropping uneeded columns\n",
        "wine_original = wine\n",
        "wine = wine.drop(['title','description','points','year','price','points', 'variety','polarity_score'], axis=1)"
      ],
      "execution_count": null,
      "outputs": []
    },
    {
      "cell_type": "code",
      "metadata": {
        "id": "Jgc3aNunavq-"
      },
      "source": [
        "# Checking for nulls\n",
        "wine.isna().sum()"
      ],
      "execution_count": null,
      "outputs": []
    },
    {
      "cell_type": "code",
      "metadata": {
        "id": "f9UhjH76YKGr"
      },
      "source": [
        "# Previewing result\n",
        "wine.head(1)"
      ],
      "execution_count": null,
      "outputs": []
    },
    {
      "cell_type": "code",
      "metadata": {
        "id": "GYd05TgKRi92"
      },
      "source": [
        "# Selecting data to be encoded\n",
        "encode = wine.drop('star_rating', axis=1)\n",
        "\n",
        "#Encoding - one hot encoder\n",
        "enc = OneHotEncoder()\n",
        "wine_enc = enc.fit_transform(encode)\n",
        "col_names = enc.get_feature_names(encode.columns)\n",
        "\n",
        "#Creating dataframe from encoded values\n",
        "wine_enc = pd.DataFrame(wine_enc.todense(), columns= col_names) #todense() reshapes array \n",
        "wine_enc.head()"
      ],
      "execution_count": null,
      "outputs": []
    },
    {
      "cell_type": "markdown",
      "metadata": {
        "id": "bJVZecB3cIhr"
      },
      "source": [
        "### Logistic Regression Model\n",
        "The logistic regression model is fitted in order to predict star ratings for wines that are not included in the dataset. More importantly, it identifies the features that have the strongest influence on a wine's star rating by calling their coefficients' absolute values."
      ]
    },
    {
      "cell_type": "code",
      "metadata": {
        "id": "vOgSllM0Yc2i"
      },
      "source": [
        "#Identify feature and label columns\n",
        "feature_cols = wine_enc\n",
        "\n",
        "X = feature_cols\n",
        "y = wine.star_rating"
      ],
      "execution_count": null,
      "outputs": []
    },
    {
      "cell_type": "code",
      "metadata": {
        "id": "BE_N5eU5Zg7p"
      },
      "source": [
        "#Splitting the Dataset into 65% train and 35% test data\n",
        "X_train, X_test, y_train, y_test = train_test_split(X, y, test_size=35, random_state=35)\n",
        "\n",
        "#Dropping index\n",
        "X_test = X_test.reset_index(drop=True)\n",
        "y_test = y_test.reset_index(drop=True)"
      ],
      "execution_count": null,
      "outputs": []
    },
    {
      "cell_type": "code",
      "metadata": {
        "id": "ZXhQhJB7eQLH"
      },
      "source": [
        "#Scaling data\n",
        "scaler = StandardScaler()\n",
        "X_train = scaler.fit_transform(X_train)\n",
        "X_test = scaler.transform(X_test)"
      ],
      "execution_count": null,
      "outputs": []
    },
    {
      "cell_type": "code",
      "metadata": {
        "id": "SzKIhqZIZ7Oa"
      },
      "source": [
        "#Fitting model\n",
        "logreg = LogisticRegression(multi_class='multinomial', solver='newton-cg').fit(X_train, y_train)\n",
        "\n",
        "#Making predictions\n",
        "y_pred = logreg.predict(X_test)\n",
        "print('Accuracy of logistic regression classifier on test set: {:.2f}'.format(logreg.score(X_test, y_test)))"
      ],
      "execution_count": null,
      "outputs": []
    },
    {
      "cell_type": "code",
      "metadata": {
        "id": "i3ZCqH5Fbzs8"
      },
      "source": [
        "#Classification report to measure performance\n",
        "print(classification_report(y_test, y_pred, digits=4))"
      ],
      "execution_count": null,
      "outputs": []
    },
    {
      "cell_type": "code",
      "metadata": {
        "id": "xSOZnyl3sBOA"
      },
      "source": [
        "#Calling coefficients\n",
        "logreg.coef_\n",
        "\n",
        "#Storing coefficients in dictionary with feature names\n",
        "coef_dict = {}\n",
        "\n",
        "for coef, feat in zip(logreg.coef_[0,:], feature_cols):\n",
        "  coef_dict[feat] = coef\n",
        "\n",
        "#storing result in DataFrame including signs to show positive or negative influence\n",
        "coef = pd.DataFrame.from_dict(coef_dict,orient='index', columns=['coefficient'])\n",
        "\n",
        "#Viewing results\n",
        "coef.sort_values(by='coefficient', ascending=False)"
      ],
      "execution_count": null,
      "outputs": []
    },
    {
      "cell_type": "code",
      "metadata": {
        "id": "MxK2VaaLsx2h"
      },
      "source": [
        "# Obtaining coefficient's absolute value identify features' influence\n",
        "abs(coef).sort_values(by='coefficient', ascending=False)"
      ],
      "execution_count": null,
      "outputs": []
    },
    {
      "cell_type": "markdown",
      "metadata": {
        "id": "UONGFtBHmICy"
      },
      "source": [
        "## kNN based Recommender System\n",
        "\n",
        "Build a Recommender System that suggest five preferred wines based on a custom input."
      ]
    },
    {
      "cell_type": "code",
      "metadata": {
        "id": "dtXhvl6it7Cg"
      },
      "source": [
        "#Importing module\n",
        "from sklearn.neighbors import NearestNeighbors"
      ],
      "execution_count": null,
      "outputs": []
    },
    {
      "cell_type": "code",
      "metadata": {
        "id": "iFo5a4ZovXcR"
      },
      "source": [
        "#Adding random wine data\n",
        "rand_wine_data = {\n",
        "    'region_Africa':0, 'region_Asia':0, 'region_Australia':0, 'region_Europe':1,\n",
        "       'region_North America':0, 'region_South America':0, 'price_bin_high':1,\n",
        "       'price_bin_low':0, 'price_bin_mid':0, 'price_bin_ultra':0,\n",
        "       'year_bin_2000-2005':0, 'year_bin_2005-2010':0, 'year_bin_2010-2015':1,\n",
        "       'year_bin_2015 and later':0, 'topic_class_Bouquet Wines':0, 'topic_class_Dry Wines':1,\n",
        "       'topic_class_Fruity Wines':0, 'topic_class_Red & Oaky Wine':0,\n",
        "       'topic_class_Rich & Ripe Wines':0, 'polarity_negative':0, 'polarity_positive':1, \n",
        "       'star_rating':4\n",
        "}\n",
        "\n",
        "rand_wine = pd.DataFrame(data=rand_wine_data, index=[0])\n",
        "rand_wine"
      ],
      "execution_count": null,
      "outputs": []
    },
    {
      "cell_type": "code",
      "metadata": {
        "id": "XAtNFmVOg4Xn"
      },
      "source": [
        "# Joining label and feature columns\n",
        "wine_enc = wine_enc.join(y, how='inner')\n",
        "wine_enc.head(1)"
      ],
      "execution_count": null,
      "outputs": []
    },
    {
      "cell_type": "code",
      "metadata": {
        "id": "dmQ8OWAAwyHn"
      },
      "source": [
        "# Re-adding title column\n",
        "wine_enc['title'] = wine_original['title']\n",
        "\n",
        "# Dropping nulls\n",
        "wine_enc.dropna(subset=['title'], axis=0, inplace=True)\n",
        "\n",
        "# Selecting feature variables \n",
        "feature_cols = wine_enc.drop(['title'],axis=1)\n",
        "X_kNN = feature_cols\n",
        "y_kNN = wine_enc['title']"
      ],
      "execution_count": null,
      "outputs": []
    },
    {
      "cell_type": "code",
      "metadata": {
        "id": "0_GUHvWV4OW5"
      },
      "source": [
        "# Using NearestNeighbors model and kneighbors() method to find k neighbors.\n",
        "# Setting n_neighbors = 5 to find 5 similar wines \n",
        "neigh = NearestNeighbors(n_neighbors=5, algorithm='auto')\n",
        "neigh.fit(X_kNN)\n",
        "\n",
        "distances, indices = neigh.kneighbors(rand_wine)"
      ],
      "execution_count": null,
      "outputs": []
    },
    {
      "cell_type": "code",
      "metadata": {
        "id": "hH-GwQwl4Z05"
      },
      "source": [
        "# Printing the top 5 wine recommendations:\n",
        "print('Recommendations based on the selected wine:\\n')\n",
        "for i in range(len(distances.flatten())):\n",
        "  print('{0}. {1}'.format(i+1, wine_enc['title'].iloc[indices.flatten()[i]],distances.flatten()[i]))"
      ],
      "execution_count": null,
      "outputs": []
    }
  ]
}